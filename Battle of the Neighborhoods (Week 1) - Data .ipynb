{
 "cells": [
  {
   "cell_type": "markdown",
   "metadata": {},
   "source": [
    "# Peer-graded Assignment: Capstone Project - The Battle of Neighborhoods (Week 1) #"
   ]
  },
  {
   "cell_type": "markdown",
   "metadata": {},
   "source": [
    "**Data**"
   ]
  },
  {
   "cell_type": "markdown",
   "metadata": {},
   "source": [
    "The data for this problem will come from a variety of sources. Suburbs across Melbourne will be classed as ‘high income’ according to Australian Census data released from the Australian Taxation Office. The top 10 postcodes who have the highest average taxable income in Victoria will be selected from the 2013/2014, 2014/2015, 2015/2016 financial years, respectively. From there, data from the Australian Bureau of Statistics will determine which suburbs have the highest population of young professionals; that is, individuals who are 20<34 years of age, and have an income > $70, 000 per annum. Using Forsquare, this data will be used to construct a cluster map to determine possible site locations. Venue location data from current successful anti-aging clinics will then be compared to the venues located at each cluster. The cluster with the most associated venues will be the site location for the rejuvenation clinic. "
   ]
  },
  {
   "cell_type": "code",
   "execution_count": null,
   "metadata": {},
   "outputs": [],
   "source": []
  }
 ],
 "metadata": {
  "kernelspec": {
   "display_name": "Python 3",
   "language": "python",
   "name": "python3"
  },
  "language_info": {
   "codemirror_mode": {
    "name": "ipython",
    "version": 3
   },
   "file_extension": ".py",
   "mimetype": "text/x-python",
   "name": "python",
   "nbconvert_exporter": "python",
   "pygments_lexer": "ipython3",
   "version": "3.6.8"
  }
 },
 "nbformat": 4,
 "nbformat_minor": 2
}
