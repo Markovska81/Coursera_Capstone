{
 "cells": [
  {
   "cell_type": "markdown",
   "metadata": {},
   "source": [
    "### _Segmenting and Clustering Neighborhoods in Toronto Part 1 - Web Scraping using BeautifulSoup_ ###"
   ]
  },
  {
   "cell_type": "markdown",
   "metadata": {},
   "source": [
    "#### Import required libraries ####"
   ]
  },
  {
   "cell_type": "code",
   "execution_count": 1,
   "metadata": {},
   "outputs": [
    {
     "name": "stdout",
     "output_type": "stream",
     "text": [
      "Libraries Imported Successfully!\n"
     ]
    }
   ],
   "source": [
    "#Import required libraries\n",
    "\n",
    "import pandas as pd\n",
    "import numpy as np\n",
    "import requests\n",
    "from bs4 import BeautifulSoup\n",
    "print('Libraries Imported Successfully!')"
   ]
  },
  {
   "cell_type": "markdown",
   "metadata": {},
   "source": [
    "#### Download url and construct a dataframe ####"
   ]
  },
  {
   "cell_type": "code",
   "execution_count": 2,
   "metadata": {},
   "outputs": [
    {
     "name": "stdout",
     "output_type": "stream",
     "text": [
      "  Postcode           Borough     Neighbourhood\n",
      "0      M1A      Not assigned      Not assigned\n",
      "1      M2A      Not assigned      Not assigned\n",
      "2      M3A        North York         Parkwoods\n",
      "3      M4A        North York  Victoria Village\n",
      "4      M5A  Downtown Toronto      Harbourfront\n",
      "5      M5A  Downtown Toronto       Regent Park\n",
      "6      M6A        North York  Lawrence Heights\n",
      "7      M6A        North York    Lawrence Manor\n",
      "8      M7A      Queen's Park      Not assigned\n",
      "9      M8A      Not assigned      Not assigned\n"
     ]
    }
   ],
   "source": [
    "#Download web page\n",
    "url  = \"https://en.wikipedia.org/wiki/List_of_postal_codes_of_Canada:_M\"\n",
    "page = requests.get(url)\n",
    "\n",
    "# Construct a dataframe\n",
    "df = pd.read_html(url, header=0)[0]\n",
    "\n",
    "print(df.head(10))"
   ]
  },
  {
   "cell_type": "markdown",
   "metadata": {},
   "source": [
    "#### Remove Boroughs that are not assigned ####"
   ]
  },
  {
   "cell_type": "code",
   "execution_count": 3,
   "metadata": {},
   "outputs": [
    {
     "name": "stdout",
     "output_type": "stream",
     "text": [
      "   Postcode           Borough     Neighbourhood\n",
      "2       M3A        North York         Parkwoods\n",
      "3       M4A        North York  Victoria Village\n",
      "4       M5A  Downtown Toronto      Harbourfront\n",
      "5       M5A  Downtown Toronto       Regent Park\n",
      "6       M6A        North York  Lawrence Heights\n",
      "7       M6A        North York    Lawrence Manor\n",
      "8       M7A      Queen's Park      Not assigned\n",
      "10      M9A         Etobicoke  Islington Avenue\n",
      "11      M1B       Scarborough             Rouge\n",
      "12      M1B       Scarborough           Malvern\n"
     ]
    },
    {
     "data": {
      "text/plain": [
       "(212, 3)"
      ]
     },
     "execution_count": 3,
     "metadata": {},
     "output_type": "execute_result"
    }
   ],
   "source": [
    "# Remove  Bouroughs that are 'not assigned'\n",
    "df = df[df.Borough != 'Not assigned']\n",
    "print(df.head(10))\n",
    "df.shape"
   ]
  },
  {
   "cell_type": "markdown",
   "metadata": {},
   "source": [
    "#### 'Not assigned' Neighborhoods replaced with Borough value ####"
   ]
  },
  {
   "cell_type": "code",
   "execution_count": 4,
   "metadata": {},
   "outputs": [
    {
     "name": "stdout",
     "output_type": "stream",
     "text": [
      "   Postcode           Borough     Neighbourhood\n",
      "2       M3A        North York         Parkwoods\n",
      "3       M4A        North York  Victoria Village\n",
      "4       M5A  Downtown Toronto      Harbourfront\n",
      "5       M5A  Downtown Toronto       Regent Park\n",
      "6       M6A        North York  Lawrence Heights\n",
      "7       M6A        North York    Lawrence Manor\n",
      "8       M7A      Queen's Park      Queen's Park\n",
      "10      M9A         Etobicoke  Islington Avenue\n",
      "11      M1B       Scarborough             Rouge\n",
      "12      M1B       Scarborough           Malvern\n"
     ]
    }
   ],
   "source": [
    "#Replace 'not assigned' with a Borough value\n",
    "for index, row in df.iterrows():\n",
    "    if df.loc[index,'Neighbourhood'] == 'Not assigned':\n",
    "        df.loc[index,'Neighbourhood']=df.loc[index,'Borough']\n",
    "print(df.head(10))"
   ]
  },
  {
   "cell_type": "markdown",
   "metadata": {},
   "source": [
    "#### Group Neighborhoods via Postcode ####"
   ]
  },
  {
   "cell_type": "code",
   "execution_count": 5,
   "metadata": {},
   "outputs": [
    {
     "name": "stdout",
     "output_type": "stream",
     "text": [
      "  Postcode      Borough                                    Neighbourhood\n",
      "0      M1B  Scarborough                                   Malvern, Rouge\n",
      "1      M1C  Scarborough           Highland Creek, Rouge Hill, Port Union\n",
      "2      M1E  Scarborough                Morningside, Guildwood, West Hill\n",
      "3      M1G  Scarborough                                           Woburn\n",
      "4      M1H  Scarborough                                        Cedarbrae\n",
      "5      M1J  Scarborough                              Scarborough Village\n",
      "6      M1K  Scarborough      Ionview, Kennedy Park, East Birchmount Park\n",
      "7      M1L  Scarborough                  Golden Mile, Clairlea, Oakridge\n",
      "8      M1M  Scarborough  Cliffside, Scarborough Village West, Cliffcrest\n",
      "9      M1N  Scarborough                      Cliffside West, Birch Cliff\n"
     ]
    }
   ],
   "source": [
    "df=df.groupby('Postcode', as_index=False).agg(lambda x: ', '.join(set(x.dropna())))\n",
    "print(df.head(10))"
   ]
  },
  {
   "cell_type": "markdown",
   "metadata": {},
   "source": [
    "#### Change 'Neighbourhood' to 'Neighborhood' ####"
   ]
  },
  {
   "cell_type": "code",
   "execution_count": 6,
   "metadata": {},
   "outputs": [
    {
     "name": "stdout",
     "output_type": "stream",
     "text": [
      "  Postcode      Borough                            Neighborhood\n",
      "0      M1B  Scarborough                          Malvern, Rouge\n",
      "1      M1C  Scarborough  Highland Creek, Rouge Hill, Port Union\n",
      "2      M1E  Scarborough       Morningside, Guildwood, West Hill\n",
      "3      M1G  Scarborough                                  Woburn\n",
      "4      M1H  Scarborough                               Cedarbrae\n"
     ]
    }
   ],
   "source": [
    "df = df.rename(columns={df.columns[2]: \"Neighborhood\" })\n",
    "print(df.head())"
   ]
  },
  {
   "cell_type": "markdown",
   "metadata": {},
   "source": [
    "#### Shape of Dataframe ####"
   ]
  },
  {
   "cell_type": "code",
   "execution_count": 7,
   "metadata": {},
   "outputs": [
    {
     "name": "stdout",
     "output_type": "stream",
     "text": [
      "The number of Postal codes = 103.\n"
     ]
    }
   ],
   "source": [
    "print('The number of Postal codes = {}.'.format(df.shape[0]))"
   ]
  },
  {
   "cell_type": "code",
   "execution_count": null,
   "metadata": {},
   "outputs": [],
   "source": []
  }
 ],
 "metadata": {
  "kernelspec": {
   "display_name": "Python 3",
   "language": "python",
   "name": "python3"
  },
  "language_info": {
   "codemirror_mode": {
    "name": "ipython",
    "version": 3
   },
   "file_extension": ".py",
   "mimetype": "text/x-python",
   "name": "python",
   "nbconvert_exporter": "python",
   "pygments_lexer": "ipython3",
   "version": "3.6.8"
  }
 },
 "nbformat": 4,
 "nbformat_minor": 2
}
