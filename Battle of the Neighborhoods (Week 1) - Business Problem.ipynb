{
 "cells": [
  {
   "cell_type": "markdown",
   "metadata": {},
   "source": [
    "# Peer-graded Assignment: Capstone Project - The Battle of Neighborhoods (Week 1) #"
   ]
  },
  {
   "cell_type": "markdown",
   "metadata": {},
   "source": [
    "**Business Problem**"
   ]
  },
  {
   "cell_type": "markdown",
   "metadata": {},
   "source": [
    "A group of medical professionals seek to invest in a rejuvenation clinic that provides infusion-based therapy to clients. Their target clientele are young professionals in Melbourne, Australia. The investors seek to find a location where the demographics include a large population of young professionals who live in suburbs associated with high-income status. The location must be within 800 metres of a train station and 100 metres from a bus or tram stop. The investors would also like to know the location statistics of current successful clinics, most notably, popular or trending venues according to social media."
   ]
  },
  {
   "cell_type": "code",
   "execution_count": null,
   "metadata": {},
   "outputs": [],
   "source": []
  }
 ],
 "metadata": {
  "kernelspec": {
   "display_name": "Python 3",
   "language": "python",
   "name": "python3"
  },
  "language_info": {
   "codemirror_mode": {
    "name": "ipython",
    "version": 3
   },
   "file_extension": ".py",
   "mimetype": "text/x-python",
   "name": "python",
   "nbconvert_exporter": "python",
   "pygments_lexer": "ipython3",
   "version": "3.6.8"
  }
 },
 "nbformat": 4,
 "nbformat_minor": 2
}
